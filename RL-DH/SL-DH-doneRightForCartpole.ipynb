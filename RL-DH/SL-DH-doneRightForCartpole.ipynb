{
 "cells": [
  {
   "cell_type": "code",
   "execution_count": 4,
   "metadata": {},
   "outputs": [
    {
     "name": "stderr",
     "output_type": "stream",
     "text": [
      "Training Epochs: 100%|██████████| 100000/100000 [00:57<00:00, 1742.29it/s]\n"
     ]
    }
   ],
   "source": [
    "from envs.cartpole_pret2 import Cartpole\n",
    "from filters.NN_filters import FCN\n",
    "import numpy as np\n",
    "import matplotlib.pyplot as plt\n",
    "import torch \n",
    "from tqdm import tqdm\n",
    "\n",
    "env = Cartpole(0, 0, focus=0)\n",
    "# initialize cartpole\n",
    "steps_trajectory = 10\n",
    "delta_t_steps = 200\n",
    "epochs = 100000\n",
    "states_whole_set = []\n",
    "actions_whole_set = []\n",
    "label_whole_set = []\n",
    "for i in tqdm(range(epochs), desc=\"Training Epochs\"):\n",
    "    states,actions, done = env.sample_data_real_trajectory(steps_trajectory)\n",
    "    states_whole_set.append(states[:-1])\n",
    "    actions_whole_set.append(actions)\n",
    "    labels = np.ones_like(actions)\n",
    "    if done:\n",
    "        labels[-delta_t_steps:] = -1\n",
    "    else:\n",
    "        pass # Whole Trajectory is safe\n",
    "    label_whole_set.append(labels)\n",
    "states_whole_set = np.concatenate(states_whole_set)\n",
    "actions_whole_set = np.concatenate(actions_whole_set)\n",
    "label_whole_set = np.concatenate(label_whole_set)\n",
    "actions_whole_set= actions_whole_set.reshape(-1,1,1)\n",
    "label_whole_set = label_whole_set.reshape(-1,1)\n",
    "np.savez(\"exps/cartpole/training_dataTrajectories.npz\", train_states = states_whole_set, train_inputs = actions_whole_set, train_labels = label_whole_set)"
   ]
  },
  {
   "cell_type": "code",
   "execution_count": 21,
   "metadata": {},
   "outputs": [
    {
     "data": {
      "image/png": "[encoded data removed]",
      "text/plain": [
       "<Figure size 640x480 with 1 Axes>"
      ]
     },
     "metadata": {},
     "output_type": "display_data"
    },
    {
     "name": "stdout",
     "output_type": "stream",
     "text": [
      "float64\n"
     ]
    }
   ],
   "source": [
    "training_data = np.load(\"exps/cartpole/training_dataTrajectories.npz\")\n",
    "train_states = training_data[\"train_states\"]\n",
    "train_inputs = training_data[\"train_inputs\"].astype(np.float64)\n",
    "train_labels = training_data[\"train_labels\"]\n",
    "train_size = int(train_states.shape[0]*0.9)\n",
    "val_states = train_states[train_size:,:]\n",
    "train_states = train_states[:train_size,:]\n",
    "val_inputs = train_inputs[train_size:,:,:]\n",
    "train_inputs = train_inputs[:train_size,:,:]\n",
    "val_labels = train_labels[train_size:,:]\n",
    "train_labels = train_labels[:train_size,:]\n",
    "plt.scatter(train_states[:, 0], train_states[:, 2])\n",
    "plt.show()\n",
    "print(train_inputs.dtype)"
   ]
  },
  {
   "cell_type": "code",
   "execution_count": null,
   "metadata": {},
   "outputs": [
    {
     "name": "stdout",
     "output_type": "stream",
     "text": [
      "Training model...\n"
     ]
    },
    {
     "name": "stderr",
     "output_type": "stream",
     "text": [
      "Training Epochs:   0%|          | 0/200 [00:00<?, ?it/s]"
     ]
    }
   ],
   "source": [
    "\n",
    "# initialize network\n",
    "input_size = 4\n",
    "output_size = 2\n",
    "n_layers = 5\n",
    "size=1000\n",
    "activation = 'relu'\n",
    "lr = 5e-4\n",
    "sc = 1\n",
    "gamma_pos = 1\n",
    "gamma_neg = 5\n",
    "model = FCN(input_size, output_size, n_layers, size, activation, lr, sc, gamma_pos, gamma_neg)\n",
    "model.FCN.train()\n",
    "\n",
    "# train network\n",
    "epochs = 200\n",
    "num_log = 4\n",
    "\n",
    "train_losses = []\n",
    "val_losses = []\n",
    "best_loss = float('inf')\n",
    "print(\"Training model...\")\n",
    "for epoch in tqdm(range(epochs), desc=\"Training Epochs\"):\n",
    "    for i in range(5):\n",
    "        train_loss = model.update2(train_states, train_inputs, train_labels, env)\n",
    "    model.scheduler.step()\n",
    "    if epoch % 1 == 0:\n",
    "        train_losses.append(train_loss)\n",
    "        val_loss = model.get_val_loss(val_states, val_inputs, val_labels, env)\n",
    "        val_losses.append(val_loss)\n",
    "        if val_loss < best_loss:\n",
    "            torch.save({\n",
    "            'model_state_dict': model.FCN.state_dict(),\n",
    "            'optimizer_state_dict': model.optimizer.state_dict(),\n",
    "            }, 'exps/cartpole/model.pth')\n",
    "        train_losses = train_losses[-500:]\n",
    "        val_losses = val_losses[-500:]\n",
    "        print(\"epoch:\", epoch, 'train loss:', train_loss)\n",
    "        print(\"epoch:\", epoch, 'val loss:', val_loss)\n",
    "\n",
    "model.FCN.eval()"
   ]
  },
  {
   "cell_type": "code",
   "execution_count": null,
   "metadata": {},
   "outputs": [
    {
     "name": "stderr",
     "output_type": "stream",
     "text": [
      "/home/artur/miniconda3/envs/fsrl/lib/python3.8/site-packages/gym/spaces/box.py:73: UserWarning: \u001b[33mWARN: Box bound precision lowered by casting to float32\u001b[0m\n",
      "  logger.warn(\n"
     ]
    }
   ],
   "source": [
    "#Cartpole Vec not working theta calc must be wrong\n",
    "from envs.cartpole_pret_Vector import CartpoleVec\n",
    "import time\n",
    "env = CartpoleVec(disc_steps=20, vector_size=5)\n",
    "o = env.reset()\n",
    "#a =  env.np_random.uniform(low=-0.05, high=0.05, size=(5,1))\n",
    "for i in range(100):\n",
    "    a = env.action_space.sample()/100\n",
    "    env.step(a)\n",
    "    env.render()\n",
    "    time.sleep(0.2)\n"
   ]
  }
 ],
 "metadata": {
  "kernelspec": {
   "display_name": "fsrl",
   "language": "python",
   "name": "python3"
  },
  "language_info": {
   "codemirror_mode": {
    "name": "ipython",
    "version": 3
   },
   "file_extension": ".py",
   "mimetype": "text/x-python",
   "name": "python",
   "nbconvert_exporter": "python",
   "pygments_lexer": "ipython3",
   "version": "3.8.18"
  }
 },
 "nbformat": 4,
 "nbformat_minor": 2
}
