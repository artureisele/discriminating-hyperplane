{
 "cells": [
  {
   "cell_type": "code",
   "execution_count": 1,
   "metadata": {},
   "outputs": [
    {
     "name": "stderr",
     "output_type": "stream",
     "text": [
      "/tmp/ipykernel_103609/1641651120.py:8: FutureWarning: You are using `torch.load` with `weights_only=False` (the current default value), which uses the default pickle module implicitly. It is possible to construct malicious pickle data which will execute arbitrary code during unpickling (See https://github.com/pytorch/pytorch/blob/main/SECURITY.md#untrusted-models for more details). In a future release, the default value for `weights_only` will be flipped to `True`. This limits the functions that could be executed during unpickling. Arbitrary objects will no longer be allowed to be loaded via this mode unless they are explicitly allowlisted by the user via `torch.serialization.add_safe_globals`. We recommend you start setting `weights_only=True` for any use case where you don't have full control of the loaded file. Please open an issue on GitHub for any issues related to this experimental feature.\n",
      "  safety_actor = torch.load(dir_safety)\n",
      "/tmp/ipykernel_103609/1641651120.py:9: FutureWarning: You are using `torch.load` with `weights_only=False` (the current default value), which uses the default pickle module implicitly. It is possible to construct malicious pickle data which will execute arbitrary code during unpickling (See https://github.com/pytorch/pytorch/blob/main/SECURITY.md#untrusted-models for more details). In a future release, the default value for `weights_only` will be flipped to `True`. This limits the functions that could be executed during unpickling. Arbitrary objects will no longer be allowed to be loaded via this mode unless they are explicitly allowlisted by the user via `torch.serialization.add_safe_globals`. We recommend you start setting `weights_only=True` for any use case where you don't have full control of the loaded file. Please open an issue on GitHub for any issues related to this experimental feature.\n",
      "  preformance_actor = torch.load(dir_actor)\n",
      "2024-11-25 15:23:28.378180: I tensorflow/core/platform/cpu_feature_guard.cc:182] This TensorFlow binary is optimized to use available CPU instructions in performance-critical operations.\n",
      "To enable the following instructions: SSE4.1 SSE4.2 AVX AVX2 FMA, in other operations, rebuild TensorFlow with the appropriate compiler flags.\n"
     ]
    }
   ],
   "source": [
    "import torch\n",
    "import pickle\n",
    "dir_safety = '/home/artur/Schreibtisch/DiscriminatingHyperplaneFork/discriminating-hyperplane/Double_Learning_Safety_Performance/data/double_learner/double_learner-customEnvs/CartPole_s43/terminated/failed_model_6999_7449.pt'\n",
    "dir_actor = \"/home/artur/Schreibtisch/DiscriminatingHyperplaneFork/discriminating-hyperplane/Double_Learning_Safety_Performance/data/double_learner/double_learner-customEnvs/CartPole_s43/terminated/failed_ac_6999_7449.pt\"\n",
    "dir_traj = \"/home/artur/Schreibtisch/DiscriminatingHyperplaneFork/discriminating-hyperplane/Double_Learning_Safety_Performance/data/double_learner/double_learner-customEnvs/CartPole_s43/terminated/replay_buffer_samples:6999_7449.pkl\"\n",
    "\n",
    "\n",
    "safety_actor = torch.load(dir_safety)\n",
    "preformance_actor = torch.load(dir_actor)\n",
    "with open(dir_traj, \"rb\") as f:\n",
    "    loaded_trajectory = pickle.load(f)"
   ]
  },
  {
   "cell_type": "code",
   "execution_count": 2,
   "metadata": {},
   "outputs": [
    {
     "name": "stderr",
     "output_type": "stream",
     "text": [
      "/home/artur/miniconda3/envs/fsrl/lib/python3.8/site-packages/gymnasium/spaces/box.py:130: UserWarning: \u001b[33mWARN: Box bound precision lowered by casting to float32\u001b[0m\n",
      "  gym.logger.warn(f\"Box bound precision lowered by casting to {self.dtype}\")\n"
     ]
    }
   ],
   "source": [
    "import gymnasium\n",
    "from gymnasium.envs.registration import register\n",
    "from envs.cartpole_pret import CartPole\n",
    "register(\n",
    "    id=\"customEnvs/CartPole\",\n",
    "    entry_point=\"envs.cartpole_pret:CartPole\",\n",
    ")\n",
    "def make_env(env_id):\n",
    "    def thunk():\n",
    "        env = gymnasium.make(env_id, render_mode=\"human\",focus = 1.6, rewardtype = 1, debug_hyperplanes_render=True)\n",
    "        env = gymnasium.wrappers.RecordEpisodeStatistics(env)\n",
    "        return env\n",
    "\n",
    "    return thunk\n",
    "env_fn = make_env(\"customEnvs/CartPole\")\n",
    "env = env_fn()"
   ]
  },
  {
   "cell_type": "code",
   "execution_count": null,
   "metadata": {},
   "outputs": [
    {
     "name": "stderr",
     "output_type": "stream",
     "text": [
      "/home/artur/Schreibtisch/DiscriminatingHyperplaneFork/discriminating-hyperplane/Double_Learning_Safety_Performance/core.py:392: UserWarning: Creating a tensor from a list of numpy.ndarrays is extremely slow. Please consider converting the list to a single numpy.ndarray with numpy.array() before converting to a tensor. (Triggered internally at ../torch/csrc/utils/tensor_new.cpp:278.)\n",
      "  a = torch.tensor([performance_action])\n"
     ]
    }
   ],
   "source": [
    "\n",
    "import numpy as np\n",
    "for index in range(2,100):\n",
    "    starting_state = list(loaded_trajectory.observations[index].detach().cpu().numpy())\n",
    "    next_desired_action = loaded_trajectory.actions[index].detach().cpu().numpy()\n",
    "    a, a_h, b_h, v = safety_actor.stepEval(torch.as_tensor(starting_state, dtype=torch.float32))\n",
    "    filtered_action, filtered , projected= safety_actor.filter_actions(a_h,b_h,next_desired_action)\n",
    "    threshold = np.clip((b_h/a_h)[0],-1,1)\n",
    "    if(a_h>0):\n",
    "        to_right_is_dangerous = False\n",
    "    else:\n",
    "        to_right_is_dangerous = True\n",
    "    if filtered:\n",
    "        safety_actor.filter_actions(a_h,b_h,next_desired_action)\n",
    "        print(filtered_action)\n",
    "        print(threshold)\n",
    "        print(to_right_is_dangerous)\n",
    "        print(next_desired_action)\n",
    "    env.set_values_for_debug_render(filtered_action,threshold,to_right_is_dangerous, next_desired_action)\n",
    "    o, info = env.reset(options={\"state\":starting_state})\n",
    "    input(\"Press Enter to continue...\")\n",
    "\n"
   ]
  }
 ],
 "metadata": {
  "kernelspec": {
   "display_name": "fsrl",
   "language": "python",
   "name": "python3"
  },
  "language_info": {
   "codemirror_mode": {
    "name": "ipython",
    "version": 3
   },
   "file_extension": ".py",
   "mimetype": "text/x-python",
   "name": "python",
   "nbconvert_exporter": "python",
   "pygments_lexer": "ipython3",
   "version": "3.8.18"
  }
 },
 "nbformat": 4,
 "nbformat_minor": 2
}
